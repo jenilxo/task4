{
 "cells": [
  {
   "cell_type": "code",
   "execution_count": 64,
   "id": "e92f88b2",
   "metadata": {},
   "outputs": [],
   "source": [
    "import cv2\n",
    "import numpy"
   ]
  },
  {
   "cell_type": "code",
   "execution_count": 65,
   "id": "80fc2230",
   "metadata": {},
   "outputs": [],
   "source": [
    "laptop = cv2.imread('Laptop.jpg')"
   ]
  },
  {
   "cell_type": "code",
   "execution_count": 66,
   "id": "d5bbd42b",
   "metadata": {},
   "outputs": [
    {
     "data": {
      "text/plain": [
       "(680, 680, 3)"
      ]
     },
     "execution_count": 66,
     "metadata": {},
     "output_type": "execute_result"
    }
   ],
   "source": [
    "laptop.shape"
   ]
  },
  {
   "cell_type": "code",
   "execution_count": 67,
   "id": "90c274b7",
   "metadata": {},
   "outputs": [],
   "source": [
    "cv2.imshow('laptop',laptop)\n",
    "cv2.waitKey()\n",
    "cv2.destroyAllWindows()"
   ]
  },
  {
   "cell_type": "code",
   "execution_count": 68,
   "id": "235ff959",
   "metadata": {},
   "outputs": [],
   "source": [
    "desk = cv2.imread('Desk.jpg')"
   ]
  },
  {
   "cell_type": "code",
   "execution_count": 69,
   "id": "b185cf9c",
   "metadata": {},
   "outputs": [],
   "source": [
    "cv2.imshow('desk',desk)\n",
    "cv2.waitKey()\n",
    "cv2.destroyAllWindows()"
   ]
  },
  {
   "cell_type": "code",
   "execution_count": 70,
   "id": "bb21d058",
   "metadata": {},
   "outputs": [],
   "source": [
    "l = laptop[110:510, 110:410]"
   ]
  },
  {
   "cell_type": "code",
   "execution_count": 71,
   "id": "a10f58a2",
   "metadata": {},
   "outputs": [],
   "source": [
    "d = desk [110:510, 110:410]"
   ]
  },
  {
   "cell_type": "code",
   "execution_count": 72,
   "id": "2527732a",
   "metadata": {},
   "outputs": [],
   "source": [
    "cv2.imshow(\"desk\", d)\n",
    "cv2.waitKey()\n",
    "cv2.destroyAllWindows()"
   ]
  },
  {
   "cell_type": "code",
   "execution_count": 73,
   "id": "cd7f6168",
   "metadata": {},
   "outputs": [
    {
     "data": {
      "text/plain": [
       "(400, 300, 3)"
      ]
     },
     "execution_count": 73,
     "metadata": {},
     "output_type": "execute_result"
    }
   ],
   "source": [
    "l.shape"
   ]
  },
  {
   "cell_type": "code",
   "execution_count": 74,
   "id": "aea2d218",
   "metadata": {},
   "outputs": [
    {
     "data": {
      "text/plain": [
       "(400, 300, 3)"
      ]
     },
     "execution_count": 74,
     "metadata": {},
     "output_type": "execute_result"
    }
   ],
   "source": [
    "d.shape"
   ]
  },
  {
   "cell_type": "code",
   "execution_count": 75,
   "id": "615a26cf",
   "metadata": {},
   "outputs": [],
   "source": [
    "l_resize = cv2.resize(l,(d.shape[1],l.shape[0]) )\n",
    "d_resize = cv2.resize(d,(l.shape[1],d.shape[0]) )"
   ]
  },
  {
   "cell_type": "code",
   "execution_count": 76,
   "id": "f360be0b",
   "metadata": {},
   "outputs": [],
   "source": [
    "laptop[110:510, 110:410] = d_resize\n",
    "new = laptop"
   ]
  },
  {
   "cell_type": "code",
   "execution_count": 77,
   "id": "bbb70d95",
   "metadata": {},
   "outputs": [],
   "source": [
    "cv2.imshow(\"laptop\" , new)\n",
    "cv2.waitKey()\n",
    "cv2.destroyAllWindows()"
   ]
  },
  {
   "cell_type": "code",
   "execution_count": 78,
   "id": "6bb6ffac",
   "metadata": {},
   "outputs": [],
   "source": [
    "desk[110:510, 110:410] = l_resize\n",
    "new1 = desk"
   ]
  },
  {
   "cell_type": "code",
   "execution_count": 79,
   "id": "2143fe35",
   "metadata": {},
   "outputs": [],
   "source": [
    "cv2.imshow(\"desk\", new1)\n",
    "cv2.waitKey()\n",
    "cv2.destroyAllWindows()"
   ]
  },
  {
   "cell_type": "code",
   "execution_count": null,
   "id": "c7bf37f6",
   "metadata": {},
   "outputs": [],
   "source": []
  }
 ],
 "metadata": {
  "kernelspec": {
   "display_name": "Python 3",
   "language": "python",
   "name": "python3"
  },
  "language_info": {
   "codemirror_mode": {
    "name": "ipython",
    "version": 3
   },
   "file_extension": ".py",
   "mimetype": "text/x-python",
   "name": "python",
   "nbconvert_exporter": "python",
   "pygments_lexer": "ipython3",
   "version": "3.8.8"
  }
 },
 "nbformat": 4,
 "nbformat_minor": 5
}
