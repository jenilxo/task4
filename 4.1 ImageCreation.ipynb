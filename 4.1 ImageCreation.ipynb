{
 "cells": [
  {
   "cell_type": "code",
   "execution_count": 11,
   "id": "88cd7986",
   "metadata": {},
   "outputs": [],
   "source": [
    "import cv2\n",
    "import numpy as np"
   ]
  },
  {
   "cell_type": "code",
   "execution_count": 12,
   "id": "c3262167",
   "metadata": {},
   "outputs": [],
   "source": [
    "arr = np.zeros([500,500,3])"
   ]
  },
  {
   "cell_type": "code",
   "execution_count": 13,
   "id": "2ebae7f1",
   "metadata": {},
   "outputs": [
    {
     "data": {
      "text/plain": [
       "(500, 500, 3)"
      ]
     },
     "execution_count": 13,
     "metadata": {},
     "output_type": "execute_result"
    }
   ],
   "source": [
    "arr.shape"
   ]
  },
  {
   "cell_type": "code",
   "execution_count": 14,
   "id": "ae993140",
   "metadata": {},
   "outputs": [],
   "source": [
    "#Face\n",
    "arr[50:200 ,166:333] = [0,255,255]\n",
    "\n",
    "#Body\n",
    "arr[200:400 ,231:268] = [0,0,255]\n",
    "\n",
    "#Pants\n",
    "arr[300:450 ,210:289] = [255,0,0]\n",
    "\n",
    "#Gap\n",
    "arr[350:450 ,240:260] = [0,0,0]\n",
    "\n",
    "#Right Eye\n",
    "arr[100:115 ,200:210] = [0,0,0]\n",
    "\n",
    "#left eye\n",
    "arr[100:115 ,289:299] = [0,0,0]\n",
    "\n",
    "#mouth\n",
    "arr[150:165 ,196:309] = [0,0,0]\n",
    "\n",
    "#Right Hand\n",
    "arr[215:230 ,70:231] = [0,255,0]\n",
    "\n",
    "#Left Hand\n",
    "arr[215:230 ,268:430] = [0,255,0]\n",
    "\n",
    "#Right Low\n",
    "arr[75:215 ,70:85] = [0,255,0]\n",
    "\n",
    "#Left Low\n",
    "arr[75:215 ,415:430] = [0,255,0]"
   ]
  },
  {
   "cell_type": "code",
   "execution_count": 15,
   "id": "0552f9dc",
   "metadata": {},
   "outputs": [],
   "source": [
    "cv2.imshow('hey',arr)\n",
    "cv2.waitKey()\n",
    "cv2.destroyAllWindows()"
   ]
  },
  {
   "cell_type": "code",
   "execution_count": 12,
   "id": "4b393d11",
   "metadata": {},
   "outputs": [
    {
     "data": {
      "text/plain": [
       "True"
      ]
     },
     "execution_count": 12,
     "metadata": {},
     "output_type": "execute_result"
    }
   ],
   "source": [
    "cv2.imwrite('ImageCreated.jpg',arr)"
   ]
  },
  {
   "cell_type": "code",
   "execution_count": null,
   "id": "675af5ba",
   "metadata": {},
   "outputs": [],
   "source": []
  }
 ],
 "metadata": {
  "kernelspec": {
   "display_name": "Python 3",
   "language": "python",
   "name": "python3"
  },
  "language_info": {
   "codemirror_mode": {
    "name": "ipython",
    "version": 3
   },
   "file_extension": ".py",
   "mimetype": "text/x-python",
   "name": "python",
   "nbconvert_exporter": "python",
   "pygments_lexer": "ipython3",
   "version": "3.8.8"
  }
 },
 "nbformat": 4,
 "nbformat_minor": 5
}
