{
 "cells": [
  {
   "cell_type": "code",
   "execution_count": 1,
   "id": "6030f29e",
   "metadata": {},
   "outputs": [],
   "source": [
    "import cv2\n",
    "import numpy"
   ]
  },
  {
   "cell_type": "code",
   "execution_count": 2,
   "id": "804963bc",
   "metadata": {},
   "outputs": [],
   "source": [
    "# First Image\n",
    "laptop = cv2.imread('Laptop.jpg')\n",
    "cv2.imshow('laptop',laptop)\n",
    "cv2.waitKey()\n",
    "cv2.destroyAllWindows()"
   ]
  },
  {
   "cell_type": "code",
   "execution_count": 3,
   "id": "7ff908c3",
   "metadata": {},
   "outputs": [],
   "source": [
    "# Second Image\n",
    "desk = cv2.imread('Desk.jpg')\n",
    "cv2.imshow('desk',desk)\n",
    "cv2.waitKey()\n",
    "cv2.destroyAllWindows()"
   ]
  },
  {
   "cell_type": "code",
   "execution_count": 4,
   "id": "f931ce16",
   "metadata": {},
   "outputs": [],
   "source": [
    "himage = numpy.hstack((laptop,desk))"
   ]
  },
  {
   "cell_type": "code",
   "execution_count": 5,
   "id": "553efd69",
   "metadata": {},
   "outputs": [],
   "source": [
    "cv2.imshow('hi',himage)\n",
    "cv2.waitKey()\n",
    "cv2.destroyAllWindows()"
   ]
  },
  {
   "cell_type": "code",
   "execution_count": 10,
   "id": "c01f932b",
   "metadata": {},
   "outputs": [
    {
     "data": {
      "text/plain": [
       "True"
      ]
     },
     "execution_count": 10,
     "metadata": {},
     "output_type": "execute_result"
    }
   ],
   "source": [
    "cv2.imwrite('StackedImageResult.jpg',himage)"
   ]
  },
  {
   "cell_type": "code",
   "execution_count": null,
   "id": "c944dbe9",
   "metadata": {},
   "outputs": [],
   "source": []
  }
 ],
 "metadata": {
  "kernelspec": {
   "display_name": "Python 3",
   "language": "python",
   "name": "python3"
  },
  "language_info": {
   "codemirror_mode": {
    "name": "ipython",
    "version": 3
   },
   "file_extension": ".py",
   "mimetype": "text/x-python",
   "name": "python",
   "nbconvert_exporter": "python",
   "pygments_lexer": "ipython3",
   "version": "3.8.8"
  }
 },
 "nbformat": 4,
 "nbformat_minor": 5
}
